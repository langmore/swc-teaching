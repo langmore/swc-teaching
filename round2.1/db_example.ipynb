{
 "metadata": {
  "name": "db_example"
 },
 "nbformat": 3,
 "nbformat_minor": 0,
 "worksheets": [
  {
   "cells": [
    {
     "cell_type": "markdown",
     "metadata": {},
     "source": [
      "# Database SELECT and WHERE Clause with [sqlite3](http://docs.python.org/2/library/sqlite3.html)"
     ]
    },
    {
     "cell_type": "markdown",
     "metadata": {},
     "source": [
      "## Why should scientists care?\n",
      "\n",
      "* Being able to select only certain records will speed up and clean up the retreval of information\n",
      "* SELECT and WHERE are fundamental operations that will be used whenever you work with databases"
     ]
    },
    {
     "cell_type": "code",
     "collapsed": false,
     "input": [
      "# sqlite3 is a built-in python module for creating and using sqlite databases\n",
      "# It does not require a separate server\n",
      "import sqlite3"
     ],
     "language": "python",
     "metadata": {},
     "outputs": [],
     "prompt_number": 1
    },
    {
     "cell_type": "markdown",
     "metadata": {},
     "source": [
      "## Setting up:  Creating tables and inserting rows"
     ]
    },
    {
     "cell_type": "code",
     "collapsed": false,
     "input": [
      "# Create a database and a connection to it\n",
      "conn = sqlite3.connect('/tmp/dbexample')\n",
      "\n",
      "# A cursor is used to execute SQL statements in your database\n",
      "c = conn.cursor()\n",
      "\n",
      "# Create table\n",
      "c.execute(\"create table Experiments (Scientist text, Project text, Hours real)\")"
     ],
     "language": "python",
     "metadata": {},
     "outputs": [
      {
       "output_type": "pyout",
       "prompt_number": 20,
       "text": [
        "<sqlite3.Cursor at 0x2d80420>"
       ]
      }
     ],
     "prompt_number": 20
    },
    {
     "cell_type": "code",
     "collapsed": false,
     "input": [
      "### Insert rows into the table\n",
      "\n",
      "## Make a list of tuples that will be inserted\n",
      "rows_to_insert = [('Sofia Kovalevskaya', 'Antigravity', 6.5),\n",
      "    ('Sofia Kovalevskaya', 'Teleportation', 11.0),\n",
      "    ('Sofia Kovalevskaya', 'Teleportation', 5.0),\n",
      "    ('Mikhail Lomonosov', 'Antigravity', 4.0),\n",
      "    ('Mikhail Lomonosov', 'Time Travel', -2.0),\n",
      "    ('Dmitri Mendeleev', 'Antigravity', 9.0),\n",
      "    ('Ivan Pavlov', 'Teleportation', 9.0),\n",
      "    ('Ivan Pavlov', 'Time Travel', -7.0),\n",
      "    ('Cheech Marin', 'Mind Travel', None)]\n",
      "\n",
      "## Insert all rows at once\n",
      "c.executemany('INSERT into Experiments values (?, ?, ?)', rows_to_insert)\n",
      "\n",
      "## This does the same thing as inserting rows one-by-one\n",
      "#for row in rows_to_insert:\n",
      "#    c.execute('insert into Experiments values (?, ?, ?)', row)"
     ],
     "language": "python",
     "metadata": {},
     "outputs": [
      {
       "output_type": "pyout",
       "prompt_number": 22,
       "text": [
        "<sqlite3.Cursor at 0x2d80420>"
       ]
      }
     ],
     "prompt_number": 22
    },
    {
     "cell_type": "code",
     "collapsed": false,
     "input": [
      "# Save (commit) the changes\n",
      "conn.commit()\n",
      "\n",
      "# We can also close the cursor and connection if we are done with them\n",
      "c.close()\n",
      "conn.close()"
     ],
     "language": "python",
     "metadata": {},
     "outputs": [],
     "prompt_number": 23
    },
    {
     "cell_type": "markdown",
     "metadata": {},
     "source": [
      "## Executing SQL statements: SELECT and WHERE"
     ]
    },
    {
     "cell_type": "code",
     "collapsed": false,
     "input": [
      "# Open connection and cursor back up\n",
      "conn = sqlite3.connect('/tmp/dbexample')\n",
      "c = conn.cursor()"
     ],
     "language": "python",
     "metadata": {},
     "outputs": [],
     "prompt_number": 24
    },
    {
     "cell_type": "markdown",
     "metadata": {},
     "source": [
      "### The basic SELECT statement"
     ]
    },
    {
     "cell_type": "code",
     "collapsed": false,
     "input": [
      "# Classic SQL SELECT statement (all-caps is optional)\n",
      "c.execute('SELECT Scientist, Hours FROM Experiments')\n",
      "\n",
      "# To actually get the results you can call cursor.fetchall()\n",
      "print c.fetchall()"
     ],
     "language": "python",
     "metadata": {},
     "outputs": [
      {
       "output_type": "stream",
       "stream": "stdout",
       "text": [
        "[(u'Sofia Kovalevskaya', 6.5), (u'Sofia Kovalevskaya', 11.0), (u'Sofia Kovalevskaya', 5.0), (u'Mikhail Lomonosov', 4.0), (u'Mikhail Lomonosov', -2.0), (u'Dmitri Mendeleev', 9.0), (u'Ivan Pavlov', 9.0), (u'Ivan Pavlov', -7.0), (u'Cheech Marin', None)]\n"
       ]
      }
     ],
     "prompt_number": 25
    },
    {
     "cell_type": "code",
     "collapsed": false,
     "input": [
      "# This clears the cursor, so call the statement again to fetch anew\n",
      "c.execute('SELECT Scientist, Hours FROM Experiments')\n",
      "\n",
      "# You can use the cursor as an iterator to get each row as a tuple\n",
      "for row in c:\n",
      "    print row"
     ],
     "language": "python",
     "metadata": {},
     "outputs": [
      {
       "output_type": "stream",
       "stream": "stdout",
       "text": [
        "(u'Sofia Kovalevskaya', 6.5)\n",
        "(u'Sofia Kovalevskaya', 11.0)\n",
        "(u'Sofia Kovalevskaya', 5.0)\n",
        "(u'Mikhail Lomonosov', 4.0)\n",
        "(u'Mikhail Lomonosov', -2.0)\n",
        "(u'Dmitri Mendeleev', 9.0)\n",
        "(u'Ivan Pavlov', 9.0)\n",
        "(u'Ivan Pavlov', -7.0)\n",
        "(u'Cheech Marin', None)\n"
       ]
      }
     ],
     "prompt_number": 26
    },
    {
     "cell_type": "markdown",
     "metadata": {},
     "source": [
      "### The WHERE Clause"
     ]
    },
    {
     "cell_type": "markdown",
     "metadata": {},
     "source": [
      "#### We can use many other operators to filter our data. For example, we could ask for all of the experiments that were done by Ivan Pavlov:"
     ]
    },
    {
     "cell_type": "code",
     "collapsed": false,
     "input": [
      "c.execute('SELECT * FROM Experiments WHERE Scientist = \"Ivan Pavlov\"')\n",
      "c.fetchall()"
     ],
     "language": "python",
     "metadata": {},
     "outputs": [
      {
       "output_type": "pyout",
       "prompt_number": 27,
       "text": [
        "[(u'Ivan Pavlov', u'Teleportation', 9.0),\n",
        " (u'Ivan Pavlov', u'Time Travel', -7.0)]"
       ]
      }
     ],
     "prompt_number": 27
    },
    {
     "cell_type": "markdown",
     "metadata": {},
     "source": [
      "#### We can also make our WHERE conditions more sophisticated by combining tests with AND and OR. For example, suppose we want to know which project Mikhail Lomonosov spent more than three hours working on. We're only interested in rows that satisfy both criteria, so we combine the two tests with AND:"
     ]
    },
    {
     "cell_type": "code",
     "collapsed": false,
     "input": [
      "ex_str = \"\"\"\n",
      "SELECT * FROM Experiments \n",
      "WHERE (Hours > 3) AND (Scientist = \"Mikhail Lomonosov\")\n",
      "\"\"\"\n",
      "c.execute(ex_str)\n",
      "c.fetchall()"
     ],
     "language": "python",
     "metadata": {},
     "outputs": [
      {
       "output_type": "pyout",
       "prompt_number": 40,
       "text": [
        "[(u'Mikhail Lomonosov', u'Antigravity', 4.0)]"
       ]
      }
     ],
     "prompt_number": 40
    },
    {
     "cell_type": "markdown",
     "metadata": {},
     "source": [
      "## Variations"
     ]
    },
    {
     "cell_type": "markdown",
     "metadata": {},
     "source": [
      "#### And if we wanted project that either scientist had spent more than three hours on, we would combine our tests:"
     ]
    },
    {
     "cell_type": "code",
     "collapsed": false,
     "input": [
      "ex_str = \"\"\"\n",
      "SELECT * FROM Experiments \n",
      "WHERE (Hours > 3) AND ((Scientist = \"Mikhail Lomonosov\") \n",
      "OR (Scientist = \"Ivan Pavlov\"))\n",
      "\"\"\"\n",
      "c.execute(ex_str)\n",
      "c.fetchall()"
     ],
     "language": "python",
     "metadata": {},
     "outputs": [
      {
       "output_type": "pyout",
       "prompt_number": 37,
       "text": [
        "[(u'Mikhail Lomonosov', u'Antigravity', 4.0),\n",
        " (u'Ivan Pavlov', u'Teleportation', 9.0)]"
       ]
      }
     ],
     "prompt_number": 37
    },
    {
     "cell_type": "markdown",
     "metadata": {},
     "source": [
      "#### The extra parentheses around the checks on the scientists' names ensure that the AND and OR are combined the way we want."
     ]
    },
    {
     "cell_type": "markdown",
     "metadata": {},
     "source": [
      "#### Instead of using OR to match one of several values, we can use the IN operator along with a list of values we would like to match. For example, we could rewrite our query as:"
     ]
    },
    {
     "cell_type": "code",
     "collapsed": false,
     "input": [
      "ex_str = \"\"\"\n",
      "SELECT * FROM Experiments \n",
      "WHERE (Hours > 3) \n",
      "AND (Scientist IN (\"Mikhail Lomonosov\", \"Ivan Pavlov\"))\n",
      "\"\"\"\n",
      "c.execute(ex_str)\n",
      "c.fetchall()"
     ],
     "language": "python",
     "metadata": {},
     "outputs": [
      {
       "output_type": "pyout",
       "prompt_number": 39,
       "text": [
        "[(u'Mikhail Lomonosov', u'Antigravity', 4.0),\n",
        " (u'Ivan Pavlov', u'Teleportation', 9.0)]"
       ]
      }
     ],
     "prompt_number": 39
    },
    {
     "cell_type": "markdown",
     "metadata": {},
     "source": [
      "#### WHERE can be used in a self join as well"
     ]
    },
    {
     "cell_type": "code",
     "collapsed": false,
     "input": [
      "## Get Scientists who have worked on two or more projects\n",
      "ex_str = \"\"\"\n",
      "SELECT DISTINCT a.Scientist\n",
      "FROM Experiments a JOIN Experiments b\n",
      "WHERE (a.Scientist = b.Scientist) AND (a.Project != b.Project)\n",
      "ORDER BY a.Scientist ASC\n",
      "\"\"\"\n",
      "c.execute(ex_str)\n",
      "c.fetchall()"
     ],
     "language": "python",
     "metadata": {},
     "outputs": [
      {
       "output_type": "pyout",
       "prompt_number": 31,
       "text": [
        "[(u'Ivan Pavlov',), (u'Mikhail Lomonosov',), (u'Sofia Kovalevskaya',)]"
       ]
      }
     ],
     "prompt_number": 31
    },
    {
     "cell_type": "code",
     "collapsed": false,
     "input": [
      "## To check for NULL using WHERE, use IS rather than =\n",
      "# Note that NULL is represented by Python None\n",
      "c.execute('SELECT * FROM Experiments WHERE Hours IS NULL')\n",
      "c.fetchall()"
     ],
     "language": "python",
     "metadata": {},
     "outputs": [
      {
       "output_type": "pyout",
       "prompt_number": 33,
       "text": [
        "[(u'Cheech Marin', u'Mind Travel', None)]"
       ]
      }
     ],
     "prompt_number": 33
    },
    {
     "cell_type": "code",
     "collapsed": false,
     "input": [
      "## To check for NULL using WHERE, use IS rather than =\n",
      "# Note that NULL is represented by Python None\n",
      "c.execute('SELECT * FROM Experiments WHERE Hours IS NOT NULL')\n",
      "c.fetchall()"
     ],
     "language": "python",
     "metadata": {},
     "outputs": [
      {
       "output_type": "pyout",
       "prompt_number": 34,
       "text": [
        "[(u'Sofia Kovalevskaya', u'Antigravity', 6.5),\n",
        " (u'Sofia Kovalevskaya', u'Teleportation', 11.0),\n",
        " (u'Sofia Kovalevskaya', u'Teleportation', 5.0),\n",
        " (u'Mikhail Lomonosov', u'Antigravity', 4.0),\n",
        " (u'Mikhail Lomonosov', u'Time Travel', -2.0),\n",
        " (u'Dmitri Mendeleev', u'Antigravity', 9.0),\n",
        " (u'Ivan Pavlov', u'Teleportation', 9.0),\n",
        " (u'Ivan Pavlov', u'Time Travel', -7.0)]"
       ]
      }
     ],
     "prompt_number": 34
    }
   ],
   "metadata": {}
  }
 ]
}